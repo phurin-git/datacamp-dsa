{
 "cells": [
  {
   "cell_type": "markdown",
   "metadata": {},
   "source": [
    "**Algorithms and data structures**\n",
    "- **Algorithm:** set of instructions that solve a problem\n",
    "  1. Design\n",
    "  2. Code\n",
    "- **Data structures:** hold and manipulate data when we execute an algorithm\n",
    "  - **Advance data structures:** linked lists, stacks, queues..."
   ]
  },
  {
   "cell_type": "markdown",
   "metadata": {},
   "source": [
    "**Singly Linked List**\n",
    "A singly linked list is a data structure that consists of a sequence of elements, each containing a reference (or link) to the next element in the sequence.\n",
    "```bash\n",
    "Head -> [Data | Next] -> [Data | Next] -> [Data | Next] -> None\n",
    "```"
   ]
  },
  {
   "cell_type": "markdown",
   "metadata": {},
   "source": [
    "**Doubly Linked List**\n",
    "A doubly linked list is a data structure that consists of a sequence of elements, each containing references (or links) to both the next and the previous elements in the sequence.\n",
    "```bash\n",
    "Head <-> [Prev | Data | Next] <-> [Prev | Data | Next] <-> [Prev | Data | Next] <-> None\n",
    "```"
   ]
  },
  {
   "cell_type": "markdown",
   "metadata": {},
   "source": [
    "**Linked lists real uses**\n",
    "- Implement other data structures:\n",
    "  - stacks\n",
    "  - queues\n",
    "  - graphs\n",
    "- Access information by navigating backward and forward\n",
    "  - web browser\n",
    "  - music playlist"
   ]
  },
  {
   "cell_type": "code",
   "execution_count": 47,
   "metadata": {},
   "outputs": [],
   "source": [
    "# Node class\n",
    "class Node:\n",
    "  def __init__(self, data) -> None:\n",
    "    self.data = data\n",
    "    self.next = None"
   ]
  },
  {
   "cell_type": "markdown",
   "metadata": {},
   "source": [
    "**Linked lists methods**\n",
    "- insert_at_beginning()\n",
    "- remove_at_beginning()\n",
    "- insert_at_end()\n",
    "- remove_at_end()\n",
    "- insert_at()\n",
    "- remove_at()\n",
    "- search()\n",
    "- ..."
   ]
  },
  {
   "cell_type": "code",
   "execution_count": 48,
   "metadata": {},
   "outputs": [],
   "source": [
    "# LinkedList class\n",
    "class LinkedList:\n",
    "  def __init__(self):\n",
    "    self.head = None\n",
    "    self.tail = None\n",
    "  \n",
    "  def insert_at_beginning(self, data):\n",
    "    new_node = Node(data)\n",
    "    if self.head:\n",
    "      new_node.next = self.head\n",
    "      self.head = new_node\n",
    "    else:\n",
    "      self.head = new_node\n",
    "      self.tail = new_node\n",
    "\n",
    "  def remove_at_beginning(self):\n",
    "    if self.head:\n",
    "      self.head = self.head.next\n",
    "\n",
    "  def insert_at_end(self, data):\n",
    "    new_node = Node(data)\n",
    "    if self.head:\n",
    "      self.tail.next = new_node\n",
    "      self.tail = new_node\n",
    "    else:\n",
    "      self.head = new_node\n",
    "      self.tail = new_node\n",
    "\n",
    "  def search(self, data):\n",
    "    current_node = self.head\n",
    "    while current_node:\n",
    "      if current_node.data == data:\n",
    "        return True\n",
    "      current_node = current_node.next\n",
    "    return False"
   ]
  },
  {
   "cell_type": "markdown",
   "metadata": {},
   "source": [
    "**Big O Notation**\n",
    "- Measure the **worst-case complexity of an algorithm**\n",
    "  - **Time complexity:** time taken to run completely\n",
    "  - **Space complexity:** extra memory space\n",
    "- Doesn't use seconds/bytes\n",
    "  - Different results depending on the hardware\n",
    "- **Mathematical expression:** O(1), O(n), O(n**2),..\n",
    "\n",
    "![](./images/BigONotation.png)"
   ]
  },
  {
   "cell_type": "code",
   "execution_count": 49,
   "metadata": {},
   "outputs": [
    {
     "name": "stdout",
     "output_type": "stream",
     "text": [
      "blue\n"
     ]
    }
   ],
   "source": [
    "colors = ['green', 'yellow', 'blue', 'red']\n",
    "\n",
    "def constant(colors):\n",
    "  print(colors[2])\n",
    "\n",
    "constant(colors) # O(1) - Constant time"
   ]
  },
  {
   "cell_type": "code",
   "execution_count": 50,
   "metadata": {},
   "outputs": [
    {
     "name": "stdout",
     "output_type": "stream",
     "text": [
      "green\n",
      "yellow\n",
      "blue\n",
      "red\n"
     ]
    }
   ],
   "source": [
    "def linear(colors):\n",
    "  for color in colors:\n",
    "    print(color)\n",
    "\n",
    "linear(colors) # O(n) - Linear time, n = 4"
   ]
  },
  {
   "cell_type": "code",
   "execution_count": 51,
   "metadata": {},
   "outputs": [
    {
     "name": "stdout",
     "output_type": "stream",
     "text": [
      "green green\n",
      "green yellow\n",
      "green blue\n",
      "green red\n",
      "yellow green\n",
      "yellow yellow\n",
      "yellow blue\n",
      "yellow red\n",
      "blue green\n",
      "blue yellow\n",
      "blue blue\n",
      "blue red\n",
      "red green\n",
      "red yellow\n",
      "red blue\n",
      "red red\n"
     ]
    }
   ],
   "source": [
    "def quadratic(colors):\n",
    "  for color1 in colors:\n",
    "    for color2 in colors:\n",
    "      print(color1, color2)\n",
    "\n",
    "quadratic(colors) # O(n^2) - Quadratic time, n = 4"
   ]
  },
  {
   "cell_type": "code",
   "execution_count": 52,
   "metadata": {},
   "outputs": [
    {
     "name": "stdout",
     "output_type": "stream",
     "text": [
      "green green green\n",
      "green green yellow\n",
      "green green blue\n",
      "green green red\n",
      "green yellow green\n",
      "green yellow yellow\n",
      "green yellow blue\n",
      "green yellow red\n",
      "green blue green\n",
      "green blue yellow\n",
      "green blue blue\n",
      "green blue red\n",
      "green red green\n",
      "green red yellow\n",
      "green red blue\n",
      "green red red\n",
      "yellow green green\n",
      "yellow green yellow\n",
      "yellow green blue\n",
      "yellow green red\n",
      "yellow yellow green\n",
      "yellow yellow yellow\n",
      "yellow yellow blue\n",
      "yellow yellow red\n",
      "yellow blue green\n",
      "yellow blue yellow\n",
      "yellow blue blue\n",
      "yellow blue red\n",
      "yellow red green\n",
      "yellow red yellow\n",
      "yellow red blue\n",
      "yellow red red\n",
      "blue green green\n",
      "blue green yellow\n",
      "blue green blue\n",
      "blue green red\n",
      "blue yellow green\n",
      "blue yellow yellow\n",
      "blue yellow blue\n",
      "blue yellow red\n",
      "blue blue green\n",
      "blue blue yellow\n",
      "blue blue blue\n",
      "blue blue red\n",
      "blue red green\n",
      "blue red yellow\n",
      "blue red blue\n",
      "blue red red\n",
      "red green green\n",
      "red green yellow\n",
      "red green blue\n",
      "red green red\n",
      "red yellow green\n",
      "red yellow yellow\n",
      "red yellow blue\n",
      "red yellow red\n",
      "red blue green\n",
      "red blue yellow\n",
      "red blue blue\n",
      "red blue red\n",
      "red red green\n",
      "red red yellow\n",
      "red red blue\n",
      "red red red\n"
     ]
    }
   ],
   "source": [
    "def cubic(colors):\n",
    "  for color1 in colors:\n",
    "    for color2 in colors:\n",
    "      for color3 in colors:\n",
    "        print(color1, color2, color3)\n",
    "\n",
    "cubic(colors) # O(n^3) - Cubic time, n = 4"
   ]
  },
  {
   "cell_type": "markdown",
   "metadata": {},
   "source": [
    "**Simplifying Big O Notation**\n",
    "1. Remove constants\n",
    "  - O(4 + 2n + 2m) -> O(n + m)\n",
    "2. Different variables for different inputs\n",
    "  - O(n + m)\n",
    "3. Remove smaller terms\n",
    "  - O(n + n^2) -> O(n^2)"
   ]
  },
  {
   "cell_type": "markdown",
   "metadata": {},
   "source": [
    "**Stacks**\n",
    "- **LIFO:** Last-In First-Out\n",
    "  - **Last inserted** item will be always the **first** item to be **removed**\n",
    "- Can only **add** at the **top**\n",
    "  - **Pushing** onto the stack\n",
    "- Can only **remove** from the **top**\n",
    "  - **Popping** from the stack\n",
    "- Can only **read** the **last element**\n",
    "  - **Peeking** from the stack\n",
    "\n",
    "![](./images/Stacks.png)"
   ]
  },
  {
   "cell_type": "code",
   "execution_count": 53,
   "metadata": {},
   "outputs": [],
   "source": [
    "class Stack:\n",
    "  def __init__(self):\n",
    "    self.top = None\n",
    "\n",
    "  def push(self, data):\n",
    "    new_node = Node(data)\n",
    "    if self.top:\n",
    "      new_node.next = self.top\n",
    "    self.top = new_node\n",
    "\n",
    "  def pop(self):\n",
    "    if self.top:\n",
    "      popped_node = self.top\n",
    "      self.top = self.top.next\n",
    "      popped_node.next = None\n",
    "      return popped_node.data\n",
    "    return None\n",
    "  \n",
    "  def peek(self):\n",
    "    if self.top:\n",
    "      return self.top.data\n",
    "    return None"
   ]
  },
  {
   "cell_type": "markdown",
   "metadata": {},
   "source": [
    "**Queues**\n",
    "- **FIFO:** First-In First-Out\n",
    "  - **First inserted** item is the **first** to be **removed**\n",
    "- Can only **insert** at the **end**\n",
    "  - **Enqueue**\n",
    "- Can only **remove** from the **head**\n",
    "  - **Dequeue**\n",
    "- Other kinds of queues:\n",
    "  - Doubly ended queues\n",
    "  - Circular queues\n",
    "  - Priority queues"
   ]
  },
  {
   "cell_type": "markdown",
   "metadata": {},
   "source": [
    "**Queues real world use cases**\n",
    "- **Printing tasks** in a printer\n",
    "  - Documents are printed in the order they are received\n",
    "- Applications where the **order of requests matters**\n",
    "  - Ticket for a concert\n",
    "  - Taxi services"
   ]
  },
  {
   "cell_type": "code",
   "execution_count": 54,
   "metadata": {},
   "outputs": [],
   "source": [
    "class Queue:\n",
    "  def __init__(self):\n",
    "    self.head = None\n",
    "    self.tail = None\n",
    "\n",
    "  def enqueue(self, data):\n",
    "    new_node = Node(data)\n",
    "    if self.head:\n",
    "      self.tail.next = new_node\n",
    "      self.tail = new_node\n",
    "    else:\n",
    "      self.head = new_node\n",
    "      self.tail = new_node\n",
    "\n",
    "  def dequeue(self):\n",
    "    if self.head:\n",
    "      current_node = self.head\n",
    "      self.head = current_node.next\n",
    "      current_node.next = None\n",
    "    else:\n",
    "      self.tail = None"
   ]
  },
  {
   "cell_type": "markdown",
   "metadata": {},
   "source": [
    "**Hash tables**\n",
    "- Store a collection of items\n",
    "- **Key-value pairs**\n",
    "  ```bash\n",
    "  lasagna: 14.75\n",
    "  moussaka: 21.15\n",
    "  sushi: 16.05\n",
    "  ```\n",
    "- Almost every programing language has a built-in hash table:\n",
    "  - hashes, hash maps, dictionaries, associative arrays\n",
    "  - Python: **dictionnaries**\n",
    "- Each position: **slot/bucket**\n",
    "![](./images/HashFunctions.png)"
   ]
  },
  {
   "cell_type": "code",
   "execution_count": 55,
   "metadata": {},
   "outputs": [
    {
     "name": "stdout",
     "output_type": "stream",
     "text": [
      "dict_items([('lasagna', 14.75), ('moussake', 21.15), ('sushi', 16.05)])\n",
      "dict_keys(['lasagna', 'moussake', 'sushi'])\n",
      "dict_values([14.75, 21.15, 16.05])\n",
      "14.75\n",
      "lasagna 14.75\n",
      "moussake 21.15\n",
      "sushi 16.05\n"
     ]
    }
   ],
   "source": [
    "my_menu =  {\n",
    "  'lasagna': 14.75,\n",
    "  'moussake': 21.15,\n",
    "  'sushi': 16.05,\n",
    "}\n",
    "\n",
    "print(my_menu.items()) # O(n) - Linear time, n = 3\n",
    "print(my_menu.keys()) # O(n) - Linear time, n = 3\n",
    "print(my_menu.values()) # O(n) - Linear time, n = 3\n",
    "print(my_menu['lasagna']) # O(1) - Constant time\n",
    "\n",
    "for key, value in my_menu.items():\n",
    "  print(key, value) # O(n) - Linear time, n = 3"
   ]
  },
  {
   "cell_type": "markdown",
   "metadata": {},
   "source": [
    "**Trees and graphs**\n",
    "- **Node*based** data structures\n",
    "- Each node can have **links** to **more than one node.**\n",
    "\n",
    "**Trees - binary tree**\n",
    "- Each node has:\n",
    "  - zero children\n",
    "  - one children\n",
    "  - two children"
   ]
  },
  {
   "cell_type": "code",
   "execution_count": 56,
   "metadata": {},
   "outputs": [],
   "source": [
    "# Trees - binary tree\n",
    "class TreeNode:\n",
    "  def __init__(self, data, left=None, right=None):\n",
    "    self.data = data\n",
    "    self.left = left\n",
    "    self.right = right"
   ]
  },
  {
   "cell_type": "markdown",
   "metadata": {},
   "source": [
    "![](./images/binaryTree.png)"
   ]
  },
  {
   "cell_type": "code",
   "execution_count": 57,
   "metadata": {},
   "outputs": [
    {
     "name": "stdout",
     "output_type": "stream",
     "text": [
      "A\n",
      "B\n",
      "C\n"
     ]
    }
   ],
   "source": [
    "node1 = TreeNode('B')\n",
    "node2 = TreeNode('C')\n",
    "root_node = TreeNode('A', node1, node2)\n",
    "print(root_node.data) # O(1) - Constant time\n",
    "print(root_node.left.data) # O(1) - Constant time\n",
    "print(root_node.right.data) # O(1) - Constant time"
   ]
  },
  {
   "cell_type": "markdown",
   "metadata": {},
   "source": [
    "**Trees - real uses**\n",
    "- Storing **hierarchical relationships**\n",
    "  - File system of a computer\n",
    "  - Structure of an HTML document\n",
    "- **Chess:** possible moves of the rival\n",
    "- **Searching and sorting algorithms**"
   ]
  },
  {
   "cell_type": "markdown",
   "metadata": {},
   "source": [
    "**Graphs**\n",
    "\n",
    "![](./images/graphs.png)\n",
    "- Set of:\n",
    "  - nodes/vertices\n",
    "  - links/edges\n",
    "- Trees are a type of graph\n",
    "- Type\n",
    "\n",
    "![](./images/graphs_directed.png)\n",
    "  - Directed\n",
    "    - Specific direction\n",
    "\n",
    "![](./images/graphs_undirected.png)\n",
    "  - Undirected\n",
    "    - Edges have no children\n",
    "    - The relationship is mutual\n",
    "\n",
    "![](./images/graphs_weighted.png)\n",
    "  - Weighted\n",
    "    - numeric values associated with the edges\n",
    "    - can be either directed or undirected\n",
    "\n",
    "![](./images/graphs_vs_tree.png)"
   ]
  },
  {
   "cell_type": "markdown",
   "metadata": {},
   "source": [
    "**Graphs - real world use cases**\n",
    "- User relationships in **social networks**\n",
    "  - friendship\n",
    "  - follows\n",
    "  - likes\n",
    "  - etc.\n",
    "- **Locations and distances**\n",
    "  - optimize routes\n",
    "- **Graph databases**\n",
    "- **Searching and sorting algorithms**"
   ]
  },
  {
   "cell_type": "code",
   "execution_count": 58,
   "metadata": {},
   "outputs": [],
   "source": [
    "class Graph:\n",
    "  def __init__(self):\n",
    "    self.vertices = {}\n",
    "\n",
    "  def add_vertex(self, vertex):\n",
    "    self.vertices[vertex] = []\n",
    "\n",
    "  def add_edge(self, source, target):\n",
    "    self.vertices[source].append(target)"
   ]
  },
  {
   "cell_type": "code",
   "execution_count": 59,
   "metadata": {},
   "outputs": [
    {
     "name": "stdout",
     "output_type": "stream",
     "text": [
      "{'A': ['B', 'C'], 'B': ['D'], 'C': ['D'], 'D': []}\n"
     ]
    }
   ],
   "source": [
    "graph = Graph()\n",
    "graph.add_vertex('A')\n",
    "graph.add_vertex('B')\n",
    "graph.add_vertex('C')\n",
    "graph.add_vertex('D')\n",
    "graph.add_edge('A', 'B')\n",
    "graph.add_edge('A', 'C')\n",
    "graph.add_edge('B', 'D')\n",
    "graph.add_edge('C', 'D')\n",
    "print(graph.vertices) # O(1) - Constant time"
   ]
  },
  {
   "cell_type": "code",
   "execution_count": 60,
   "metadata": {},
   "outputs": [],
   "source": [
    "class WeightedGraph(Graph):\n",
    "  def add_edge(self, source, target, weight):\n",
    "    self.vertices[source].append([target, weight])"
   ]
  },
  {
   "cell_type": "code",
   "execution_count": 61,
   "metadata": {},
   "outputs": [
    {
     "name": "stdout",
     "output_type": "stream",
     "text": [
      "{'A': [['B', 10], ['C', 20]], 'B': [], 'C': []}\n"
     ]
    }
   ],
   "source": [
    "weightGraph = WeightedGraph()\n",
    "weightGraph.add_vertex('A')\n",
    "weightGraph.add_vertex('B')\n",
    "weightGraph.add_vertex('C')\n",
    "weightGraph.add_edge('A', 'B', 10)\n",
    "weightGraph.add_edge('A', 'C', 20)\n",
    "print(weightGraph.vertices) # O(1) - Constant time"
   ]
  },
  {
   "cell_type": "markdown",
   "metadata": {},
   "source": [
    "**Recursion**\n",
    "- Function calling itself\n",
    "- Almost all the situations where we use loops\n",
    "  - substitute the loops using recursion\n",
    "- Can solve problems that seem very complex at first\n",
    "\n",
    "**Dynamic programming**\n",
    "- Optimization technique\n",
    "- Mainly applied to recursion\n",
    "- Can reduce the complexity of recursive algorithms\n",
    "- Used for:\n",
    "  - Any problem that can be divided into smaller subproblems\n",
    "  - Subproblems overlap\n",
    "- Solutions of subproblems are saved, avoiding the need to recalculate\n",
    "  - Memoization"
   ]
  },
  {
   "cell_type": "code",
   "execution_count": 62,
   "metadata": {},
   "outputs": [
    {
     "name": "stdout",
     "output_type": "stream",
     "text": [
      "120\n"
     ]
    }
   ],
   "source": [
    "def factorial(n):\n",
    "  if n == 0:\n",
    "    return 1\n",
    "  return n * factorial(n - 1)\n",
    "\n",
    "print(factorial(5)) # O(n) - Linear time, n = 5"
   ]
  },
  {
   "cell_type": "code",
   "execution_count": 63,
   "metadata": {},
   "outputs": [
    {
     "name": "stdout",
     "output_type": "stream",
     "text": [
      "5\n"
     ]
    }
   ],
   "source": [
    "def fibonacci(n):\n",
    "  if n <= 1:\n",
    "    return n\n",
    "  return fibonacci(n - 1) + fibonacci(n - 2)\n",
    "\n",
    "print(fibonacci(5)) # O(2^n) - Exponential time, n = 5"
   ]
  },
  {
   "cell_type": "code",
   "execution_count": 64,
   "metadata": {},
   "outputs": [
    {
     "name": "stdout",
     "output_type": "stream",
     "text": [
      "Move disk 1 from A to C\n",
      "Move disk 2 from A to B\n",
      "Move disk 1 from C to B\n",
      "Move disk 3 from A to C\n",
      "Move disk 1 from B to A\n",
      "Move disk 2 from B to C\n",
      "Move disk 1 from A to C\n"
     ]
    }
   ],
   "source": [
    "def hanoi(n, source, target, auxiliary):\n",
    "  if n == 1:\n",
    "    print(f'Move disk 1 from {source} to {target}')\n",
    "    return\n",
    "  hanoi(n - 1, source, auxiliary, target)\n",
    "  print(f'Move disk {n} from {source} to {target}')\n",
    "  hanoi(n - 1, auxiliary, target, source)\n",
    "\n",
    "hanoi(3, 'A', 'C', 'B') # O(2^n) - Exponential time, n = 3"
   ]
  },
  {
   "cell_type": "markdown",
   "metadata": {},
   "source": [
    "**Searching algorithms**\n",
    "- **Searching** is an essential operation\n",
    "  - Several ways\n",
    "- Algorithms that search for an element within a collection\"\n",
    "  - **Linear search**\n",
    "  - **Binary search**"
   ]
  },
  {
   "cell_type": "markdown",
   "metadata": {},
   "source": [
    "**Linear search**\n",
    "- Looping through each element\n",
    "![](./images/LinearSearch.png)\n",
    "- Element found\n",
    "  - algorithm stops\n",
    "  - return the result\n",
    "- Element not found\n",
    "  - algorithm continues"
   ]
  },
  {
   "cell_type": "code",
   "execution_count": 65,
   "metadata": {},
   "outputs": [],
   "source": [
    "def linear_search(data, target):\n",
    "  for i in range(len(data)):\n",
    "    if data[i] == target:\n",
    "      return True\n",
    "  return False"
   ]
  },
  {
   "cell_type": "code",
   "execution_count": 66,
   "metadata": {},
   "outputs": [
    {
     "name": "stdout",
     "output_type": "stream",
     "text": [
      "True\n"
     ]
    }
   ],
   "source": [
    "print(linear_search([1, 2, 3, 4, 5], 3)) # O(n) - Linear time, n = 5"
   ]
  },
  {
   "cell_type": "markdown",
   "metadata": {},
   "source": [
    "**Binary search**\n",
    "- Only applies to ordered lists\n",
    "- Compare `search_value` with the item in the **middle** of the list\n",
    "![](./images/BinearSearch_1.png)\n",
    "![](./images/BinearSearch_2.png)\n",
    "![](./images/BinearSearch_3.png)\n",
    "![](./images/BinearSearch_4.png)"
   ]
  },
  {
   "cell_type": "code",
   "execution_count": 72,
   "metadata": {},
   "outputs": [],
   "source": [
    "def binary_search(data, target):\n",
    "  first = 0\n",
    "  last = len(data) - 1\n",
    "  while first <= last:\n",
    "    middle = (first + last) // 2\n",
    "    if data[middle] == target:\n",
    "      return True\n",
    "    elif data[middle] < target:\n",
    "      first = middle + 1\n",
    "    else:\n",
    "      last = middle - 1\n",
    "  return False"
   ]
  },
  {
   "cell_type": "code",
   "execution_count": 68,
   "metadata": {},
   "outputs": [
    {
     "name": "stdout",
     "output_type": "stream",
     "text": [
      "True\n"
     ]
    }
   ],
   "source": [
    "print(binary_search([1, 2, 3, 4, 5], 3)) # O(log n) - Logarithmic time, n = 5"
   ]
  },
  {
   "cell_type": "markdown",
   "metadata": {},
   "source": [
    "**Binary Search Tree**\n",
    "- **Left subtree** of a node\n",
    "  - values **less** than the node itself\n",
    "- **Right subtree** of a node:\n",
    "  - values **greater** than the node itself\n",
    "- Left and right subtrees must be binary search trees\n",
    "\n",
    "![](./images/BST.png)"
   ]
  },
  {
   "cell_type": "markdown",
   "metadata": {},
   "source": [
    "**Search for 72**\n",
    "![](./images/BST_1.png)\n",
    "![](./images/BST_2.png)\n",
    "![](./images/BST_3.png)\n",
    "![](./images/BST_4.png)"
   ]
  },
  {
   "cell_type": "code",
   "execution_count": null,
   "metadata": {},
   "outputs": [],
   "source": [
    "class BinarySearchTree:\n",
    "  def __init__(self):\n",
    "    self.root = None\n",
    "\n",
    "  def search(self, target):\n",
    "    current_node = self.root\n",
    "    while current_node:\n",
    "      if current_node.data == target:\n",
    "        return True\n",
    "      elif current_node.data < target:\n",
    "        current_node = current_node.right\n",
    "      else:\n",
    "        current_node = current_node.left\n",
    "    return False\n",
    "  \n",
    "  def insert(self, data):\n",
    "    new_node = TreeNode(data)\n",
    "    if not self.root:\n",
    "      self.root = new_node\n",
    "    else:\n",
    "      current_node = self.root\n",
    "      while True:\n",
    "        if current_node.data < data:\n",
    "          if current_node.right:\n",
    "            current_node = current_node.right\n",
    "          else:\n",
    "            current_node.right = new_node\n",
    "            break\n",
    "        else:\n",
    "          if current_node.left:\n",
    "            current_node = current_node.left\n",
    "          else:\n",
    "            current_node.left = new_node\n",
    "            break\n",
    "\n",
    "  def delete(self, target):\n",
    "    parent_node = None\n",
    "    current_node = self.root\n",
    "    while current_node:\n",
    "      if current_node.data == target:\n",
    "        if current_node.left and current_node.right:\n",
    "          parent_node = current_node\n",
    "          successor = current_node.right\n",
    "          while successor.left:\n",
    "            parent_node = successor\n",
    "            successor = successor.left\n",
    "          current_node.data = successor.data\n",
    "          current_node = successor\n",
    "        if current_node.left:\n",
    "          if not parent_node:\n",
    "            self.root = current_node.left\n",
    "          else:\n",
    "            if parent_node.data < current_node.data:\n",
    "              parent_node.right = current_node.left\n",
    "            else:\n",
    "              parent_node.left = current_node.left\n",
    "        elif current_node.right:\n",
    "          if not parent_node:\n",
    "            self.root = current_node.right\n",
    "          else:\n",
    "            if parent_node.data < current_node.data:\n",
    "              parent_node.right = current_node.right\n",
    "            else:\n",
    "              parent_node.left = current_node.right\n",
    "        else:\n",
    "          if not parent_node:\n",
    "            self.root = None\n",
    "          else:\n",
    "            if parent_node.data < current_node.data:\n",
    "              parent_node.right = None\n",
    "            else:\n",
    "              parent_node.left = None\n",
    "        return True\n",
    "      elif current_node.data < target:\n",
    "        parent_node = current_node\n",
    "        current_node = current_node.right\n",
    "      else:\n",
    "        parent_node = current_node\n",
    "        current_node = current_node.left\n",
    "    return False"
   ]
  },
  {
   "cell_type": "markdown",
   "metadata": {},
   "source": [
    "## **Depth First Search**\n",
    "\n",
    "### **Tree/graph traversal**\n",
    "- Process of visiting **all nodes**\n",
    "- Depth first search\n",
    "- Breadth first search\n",
    "\n",
    "### **Depth first search - binary trees**\n",
    "- In-order\n",
    "- Pre-order\n",
    "- Post-order"
   ]
  },
  {
   "cell_type": "markdown",
   "metadata": {},
   "source": [
    "**In-oreder traversal**\n",
    "**order:** Left -> Current -> Right\n",
    "\n",
    "**Pre-order tralversal**\n",
    "**order:** Current -> Left -> Right\n",
    "\n",
    "**Post-order traversal**\n",
    "**order:** Left -> Right -> Current"
   ]
  },
  {
   "cell_type": "code",
   "execution_count": 76,
   "metadata": {},
   "outputs": [],
   "source": [
    "class BinarySearchTree:\n",
    "  def __init__(self):\n",
    "    self.root = None\n",
    "\n",
    "  def search(self, target):\n",
    "    current_node = self.root\n",
    "    while current_node:\n",
    "      if current_node.data == target:\n",
    "        return True\n",
    "      elif current_node.data < target:\n",
    "        current_node = current_node.right\n",
    "      else:\n",
    "        current_node = current_node.left\n",
    "    return False\n",
    "  \n",
    "  def insert(self, data):\n",
    "    new_node = TreeNode(data)\n",
    "    if not self.root:\n",
    "      self.root = new_node\n",
    "    else:\n",
    "      current_node = self.root\n",
    "      while True:\n",
    "        if current_node.data < data:\n",
    "          if current_node.right:\n",
    "            current_node = current_node.right\n",
    "          else:\n",
    "            current_node.right = new_node\n",
    "            break\n",
    "        else:\n",
    "          if current_node.left:\n",
    "            current_node = current_node.left\n",
    "          else:\n",
    "            current_node.left = new_node\n",
    "            break\n",
    "\n",
    "  def delete(self, target):\n",
    "    parent_node = None\n",
    "    current_node = self.root\n",
    "    while current_node:\n",
    "      if current_node.data == target:\n",
    "        if current_node.left and current_node.right:\n",
    "          parent_node = current_node\n",
    "          successor = current_node.right\n",
    "          while successor.left:\n",
    "            parent_node = successor\n",
    "            successor = successor.left\n",
    "          current_node.data = successor.data\n",
    "          current_node = successor\n",
    "        if current_node.left:\n",
    "          if not parent_node:\n",
    "            self.root = current_node.left\n",
    "          else:\n",
    "            if parent_node.data < current_node.data:\n",
    "              parent_node.right = current_node.left\n",
    "            else:\n",
    "              parent_node.left = current_node.left\n",
    "        elif current_node.right:\n",
    "          if not parent_node:\n",
    "            self.root = current_node.right\n",
    "          else:\n",
    "            if parent_node.data < current_node.data:\n",
    "              parent_node.right = current_node.right\n",
    "            else:\n",
    "              parent_node.left = current_node.right\n",
    "        else:\n",
    "          if not parent_node:\n",
    "            self.root = None\n",
    "          else:\n",
    "            if parent_node.data < current_node.data:\n",
    "              parent_node.right = None\n",
    "            else:\n",
    "              parent_node.left = None\n",
    "        return True\n",
    "      elif current_node.data < target:\n",
    "        parent_node = current_node\n",
    "        current_node = current_node.right\n",
    "      else:\n",
    "        parent_node = current_node\n",
    "        current_node = current_node.left\n",
    "    return False\n",
    "  \n",
    "  def in_order(self, current_node):\n",
    "    if current_node:\n",
    "      self.in_order(current_node.left)\n",
    "      print(current_node.data)\n",
    "      self.in_order(current_node.right)\n",
    "\n",
    "  def pre_order(self, current_node):\n",
    "    if current_node:\n",
    "      print(current_node.data)\n",
    "      self.pre_order(current_node.left)\n",
    "      self.pre_order(current_node.right)\n",
    "\n",
    "  def post_order(self, current_node):\n",
    "    if current_node:\n",
    "      self.post_order(current_node.left)\n",
    "      self.post_order(current_node.right)\n",
    "      print(current_node.data)"
   ]
  },
  {
   "cell_type": "code",
   "execution_count": 80,
   "metadata": {},
   "outputs": [
    {
     "name": "stdout",
     "output_type": "stream",
     "text": [
      "True\n"
     ]
    }
   ],
   "source": [
    "bst = BinarySearchTree()\n",
    "bst.insert(\"Pride and Prejudice\")\n",
    "print(bst.search(\"Pride and Prejudice\")) # O(log n) - Logarithmic time, n = 1"
   ]
  },
  {
   "cell_type": "code",
   "execution_count": null,
   "metadata": {},
   "outputs": [
    {
     "name": "stdout",
     "output_type": "stream",
     "text": [
      "Dracula\n",
      "Heidi\n",
      "Jane Eyre\n",
      "Little women\n",
      "Moby Dick\n",
      "Oliver Twist\n",
      "Vanity Fair\n"
     ]
    }
   ],
   "source": [
    "# Printing book titles in alphabetical order\n",
    "bst = BinarySearchTree()\n",
    "bst.insert('Little women')\n",
    "bst.insert('Heidi')\n",
    "bst.insert('Oliver Twist')\n",
    "bst.insert('Dracula')\n",
    "bst.insert('Jane Eyre')\n",
    "bst.insert('Moby Dick')\n",
    "bst.insert('Vanity Fair')\n",
    "bst.in_order(bst.root)"
   ]
  },
  {
   "cell_type": "code",
   "execution_count": 85,
   "metadata": {},
   "outputs": [
    {
     "name": "stdout",
     "output_type": "stream",
     "text": [
      "*\n",
      "-\n",
      "3\n",
      "10\n",
      "5\n"
     ]
    }
   ],
   "source": [
    "# Using pre-order traversal with Polish notation\n",
    "bst = BinarySearchTree()\n",
    "bst.insert('*')\n",
    "bst.insert('-')\n",
    "bst.insert('3')\n",
    "bst.insert('10')\n",
    "bst.insert('5')\n",
    "bst.pre_order(bst.root)"
   ]
  },
  {
   "cell_type": "markdown",
   "metadata": {},
   "source": [
    "**When to use in-order, pre-order, and post-order**\n",
    "- **in-order**\n",
    "  - used BST to obtian the node's values in ascending order\n",
    "- **pre-order**\n",
    "  - create copies of a tree\n",
    "  - get prefix expressions\n",
    "- **post-order**\n",
    "  - delete binary trees\n",
    "  - get postfix expressions"
   ]
  },
  {
   "cell_type": "markdown",
   "metadata": {},
   "source": [
    "### **Depth first search - graphs**\n",
    "- Graphs can have cycles\n",
    "  - need to keep track of visited vertices\n",
    "- Steps:\n",
    "  1. Start at any vertex\n",
    "  2. Tracks current vertex to visited vertices list\n",
    "  3. For each current node's adjacent vertex (node ที่อยู่ติดกัน)\n",
    "    - If it has been visited -> ignore it\n",
    "    - If it hasn't been visited -> recursively perform DFS"
   ]
  },
  {
   "cell_type": "code",
   "execution_count": 100,
   "metadata": {},
   "outputs": [
    {
     "name": "stdout",
     "output_type": "stream",
     "text": [
      "{0: [1, 2], 1: [0, 2, 3], 2: [0, 1, 4], 3: [1, 4], 4: [2, 3]}\n"
     ]
    }
   ],
   "source": [
    "graph = Graph()\n",
    "graph.add_vertex(0)\n",
    "graph.add_vertex(1)\n",
    "graph.add_vertex(2)\n",
    "graph.add_vertex(3)\n",
    "graph.add_vertex(4)\n",
    "graph.add_edge(0, 1)\n",
    "graph.add_edge(0, 2)\n",
    "graph.add_edge(1, 0)\n",
    "graph.add_edge(1, 2)\n",
    "graph.add_edge(1, 3)\n",
    "graph.add_edge(2, 0)\n",
    "graph.add_edge(2, 1)\n",
    "graph.add_edge(2, 4)\n",
    "graph.add_edge(3, 1)\n",
    "graph.add_edge(3, 4)\n",
    "graph.add_edge(4, 2)\n",
    "graph.add_edge(4, 3)\n",
    "print(graph.vertices)"
   ]
  },
  {
   "cell_type": "code",
   "execution_count": 114,
   "metadata": {},
   "outputs": [],
   "source": [
    "def dfs(visited_vertices, graph, current_vertex):\n",
    "    # Check if current_vertex hasn't been visited yet\n",
    "    if current_vertex not in visited_vertices:\n",
    "        print(current_vertex)\n",
    "        # Add current_vertex to visited_vertices\n",
    "        visited_vertices.add(current_vertex)\n",
    "        for adjacent_vertex in graph.vertices[current_vertex]:\n",
    "            # Call recursively with the appropriate values\n",
    "            dfs(visited_vertices, graph, adjacent_vertex)"
   ]
  },
  {
   "cell_type": "code",
   "execution_count": null,
   "metadata": {},
   "outputs": [
    {
     "name": "stdout",
     "output_type": "stream",
     "text": [
      "0\n",
      "1\n",
      "2\n",
      "4\n",
      "3\n"
     ]
    }
   ],
   "source": [
    "# Implementing DFS for graphs\n",
    "dfs(set(), graph, 0)"
   ]
  },
  {
   "cell_type": "markdown",
   "metadata": {},
   "source": [
    "**Breadth first search - binary trees**\n",
    "- Starts from the root\n",
    "- Visits every node of every level\n",
    "\n",
    "![](./images/BFS.png)\n"
   ]
  },
  {
   "cell_type": "code",
   "execution_count": 4,
   "metadata": {},
   "outputs": [
    {
     "name": "stdout",
     "output_type": "stream",
     "text": [
      "Dijkstra's Algorithm starting from vertex D:\n",
      "\n",
      "Shortest distance from D to A: 4\n",
      "Shortest distance from D to B: inf\n",
      "Shortest distance from D to C: 6\n",
      "Shortest distance from D to D: 0\n",
      "Shortest distance from D to E: 2\n",
      "Shortest distance from D to F: 11\n",
      "Shortest distance from D to G: 7\n"
     ]
    }
   ],
   "source": [
    "class Graph:\n",
    "    def __init__(self, size):\n",
    "        self.adj_matrix = [[0] * size for _ in range(size)]\n",
    "        self.size = size\n",
    "        self.vertex_data = [''] * size\n",
    "\n",
    "    def add_edge(self, u, v, weight):\n",
    "        if 0 <= u < self.size and 0 <= v < self.size:\n",
    "            self.adj_matrix[u][v] = weight\n",
    "            #self.adj_matrix[v][u] = weight   For undirected graph\n",
    "\n",
    "    def add_vertex_data(self, vertex, data):\n",
    "        if 0 <= vertex < self.size:\n",
    "            self.vertex_data[vertex] = data\n",
    "\n",
    "    def dijkstra(self, start_vertex_data):\n",
    "        start_vertex = self.vertex_data.index(start_vertex_data)\n",
    "        distances = [float('inf')] * self.size\n",
    "        distances[start_vertex] = 0\n",
    "        visited = [False] * self.size\n",
    "\n",
    "        for _ in range(self.size):\n",
    "            min_distance = float('inf')\n",
    "            u = None\n",
    "            for i in range(self.size):\n",
    "                if not visited[i] and distances[i] < min_distance:\n",
    "                    min_distance = distances[i]\n",
    "                    u = i\n",
    "\n",
    "            if u is None:\n",
    "                break\n",
    "\n",
    "            visited[u] = True\n",
    "\n",
    "            for v in range(self.size):\n",
    "                if self.adj_matrix[u][v] != 0 and not visited[v]:\n",
    "                    alt = distances[u] + self.adj_matrix[u][v]\n",
    "                    if alt < distances[v]:\n",
    "                        distances[v] = alt\n",
    "\n",
    "        return distances\n",
    "\n",
    "g = Graph(7)\n",
    "\n",
    "g.add_vertex_data(0, 'A')\n",
    "g.add_vertex_data(1, 'B')\n",
    "g.add_vertex_data(2, 'C')\n",
    "g.add_vertex_data(3, 'D')\n",
    "g.add_vertex_data(4, 'E')\n",
    "g.add_vertex_data(5, 'F')\n",
    "g.add_vertex_data(6, 'G')\n",
    "\n",
    "g.add_edge(3, 0, 4)  # D -> A, weight 5\n",
    "g.add_edge(3, 4, 2)  # D -> E, weight 2\n",
    "g.add_edge(0, 2, 3)  # A -> C, weight 3\n",
    "g.add_edge(0, 4, 4)  # A -> E, weight 4\n",
    "g.add_edge(4, 2, 4)  # E -> C, weight 4\n",
    "g.add_edge(4, 6, 5)  # E -> G, weight 5\n",
    "g.add_edge(2, 5, 5)  # C -> F, weight 5\n",
    "g.add_edge(1, 2, 2)  # B -> C, weight 2\n",
    "g.add_edge(1, 5, 2)  # B -> F, weight 2\n",
    "g.add_edge(6, 5, 5)  # G -> F, weight 5\n",
    "\n",
    "# Dijkstra's algorithm from D to all vertices\n",
    "print(\"Dijkstra's Algorithm starting from vertex D:\\n\")\n",
    "distances = g.dijkstra('D')\n",
    "for i, d in enumerate(distances):\n",
    "    print(f\"Shortest distance from D to {g.vertex_data[i]}: {d}\")"
   ]
  }
 ],
 "metadata": {
  "kernelspec": {
   "display_name": "Python 3",
   "language": "python",
   "name": "python3"
  },
  "language_info": {
   "codemirror_mode": {
    "name": "ipython",
    "version": 3
   },
   "file_extension": ".py",
   "mimetype": "text/x-python",
   "name": "python",
   "nbconvert_exporter": "python",
   "pygments_lexer": "ipython3",
   "version": "3.13.0"
  }
 },
 "nbformat": 4,
 "nbformat_minor": 2
}
